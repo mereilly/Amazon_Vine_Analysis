{
  "nbformat": 4,
  "nbformat_minor": 0,
  "metadata": {
    "colab": {
      "name": "Vine_Review_Analysis.ipynb",
      "provenance": [],
      "include_colab_link": true
    },
    "kernelspec": {
      "name": "python3",
      "display_name": "Python 3"
    },
    "language_info": {
      "name": "python"
    }
  },
  "cells": [
    {
      "cell_type": "markdown",
      "metadata": {
        "id": "view-in-github",
        "colab_type": "text"
      },
      "source": [
        "<a href=\"https://colab.research.google.com/github/mereilly/Amazon_Vine_Analysis/blob/main/Vine_Review_Analysis.ipynb\" target=\"_parent\"><img src=\"https://colab.research.google.com/assets/colab-badge.svg\" alt=\"Open In Colab\"/></a>"
      ]
    },
    {
      "cell_type": "code",
      "metadata": {
        "colab": {
          "base_uri": "https://localhost:8080/"
        },
        "id": "v80oJLXP4sqG",
        "outputId": "81776ee1-f9db-4fcb-ec22-d4ec4a06357e"
      },
      "source": [
        "import os\n",
        "# Find the latest version of spark 3.0 from http://www.apache.org/dist/spark/ and enter as the spark version\n",
        "# For example:\n",
        "# spark_version = 'spark-3.0.3'\n",
        "spark_version = 'spark-3.0.3'\n",
        "os.environ['SPARK_VERSION']=spark_version\n",
        "\n",
        "# Install Spark and Java\n",
        "!apt-get update\n",
        "!apt-get install openjdk-11-jdk-headless -qq > /dev/null\n",
        "!wget -q http://www.apache.org/dist/spark/$SPARK_VERSION/$SPARK_VERSION-bin-hadoop2.7.tgz\n",
        "!tar xf $SPARK_VERSION-bin-hadoop2.7.tgz\n",
        "!pip install -q findspark\n",
        "\n",
        "# Set Environment Variables\n",
        "import os\n",
        "os.environ[\"JAVA_HOME\"] = \"/usr/lib/jvm/java-11-openjdk-amd64\"\n",
        "os.environ[\"SPARK_HOME\"] = f\"/content/{spark_version}-bin-hadoop2.7\"\n",
        "\n",
        "# Start a SparkSession\n",
        "import findspark\n",
        "findspark.init()"
      ],
      "execution_count": 20,
      "outputs": [
        {
          "output_type": "stream",
          "name": "stdout",
          "text": [
            "Hit:1 https://cloud.r-project.org/bin/linux/ubuntu bionic-cran40/ InRelease\n",
            "Ign:2 https://developer.download.nvidia.com/compute/cuda/repos/ubuntu1804/x86_64  InRelease\n",
            "Hit:3 http://security.ubuntu.com/ubuntu bionic-security InRelease\n",
            "Ign:4 https://developer.download.nvidia.com/compute/machine-learning/repos/ubuntu1804/x86_64  InRelease\n",
            "Hit:5 https://developer.download.nvidia.com/compute/cuda/repos/ubuntu1804/x86_64  Release\n",
            "Hit:6 https://developer.download.nvidia.com/compute/machine-learning/repos/ubuntu1804/x86_64  Release\n",
            "Hit:7 http://ppa.launchpad.net/c2d4u.team/c2d4u4.0+/ubuntu bionic InRelease\n",
            "Hit:8 http://archive.ubuntu.com/ubuntu bionic InRelease\n",
            "Hit:9 http://archive.ubuntu.com/ubuntu bionic-updates InRelease\n",
            "Hit:10 http://ppa.launchpad.net/cran/libgit2/ubuntu bionic InRelease\n",
            "Hit:11 http://archive.ubuntu.com/ubuntu bionic-backports InRelease\n",
            "Hit:13 http://ppa.launchpad.net/deadsnakes/ppa/ubuntu bionic InRelease\n",
            "Hit:15 http://ppa.launchpad.net/graphics-drivers/ppa/ubuntu bionic InRelease\n",
            "Reading package lists... Done\n"
          ]
        }
      ]
    },
    {
      "cell_type": "code",
      "metadata": {
        "id": "vhKGXsXk5LLC"
      },
      "source": [
        "from pyspark.sql import SparkSession\n",
        "spark = SparkSession.builder.appName(\"M16-Amazon-Challenge\").config(\"spark.driver.extraClassPath\",\"/content/postgresql-42.2.16.jar\").getOrCreate()"
      ],
      "execution_count": 21,
      "outputs": []
    },
    {
      "cell_type": "code",
      "metadata": {
        "id": "ta_676G_5N0g"
      },
      "source": [
        "from pyspark import SparkFiles\n",
        "url = \"https://s3.amazonaws.com/amazon-reviews-pds/tsv/amazon_reviews_us_Pet_Products_v1_00.tsv.gz\"\n",
        "spark.sparkContext.addFile(url)\n",
        "df = spark.read.option(\"encoding\", \"UTF-8\").csv(SparkFiles.get(\"\"), sep=\"\\t\", header=True, inferSchema=True)\n",
        "df.show()\n",
        "print (f\"Raw records count: {df.count()}\")"
      ],
      "execution_count": null,
      "outputs": []
    },
    {
      "cell_type": "code",
      "metadata": {
        "id": "FeG-OJfz5l38"
      },
      "source": [
        "# Create the vine_table. DataFrame\n",
        "vine_df = df.select(['review_id',\n",
        "                     'star_rating',\n",
        "                     'helpful_votes',\n",
        "                     'total_votes',\n",
        "                     'vine',\n",
        "                     'verified_purchase'])\n",
        "\n",
        "vine_df.show()\n",
        "print (f\"Vine count: {vine_df.count()}\")"
      ],
      "execution_count": null,
      "outputs": []
    },
    {
      "cell_type": "code",
      "metadata": {
        "id": "5Q3tEYnw50us"
      },
      "source": [
        "# Step 1: Filter the data and create a new DataFrame or table to retrieve all the rows where the total_votes \n",
        "# count is equal to or greater than 20 to pick reviews that are more likely to be helpful and to avoid having \n",
        "# division by zero errors later on.\n",
        "\n",
        "filter_df = vine_df.filter(vine_df.total_votes >= 20)\n",
        "filter_df.show()\n",
        "print(f\"Filter DF count: {filter_df.count()}\")"
      ],
      "execution_count": null,
      "outputs": []
    },
    {
      "cell_type": "code",
      "metadata": {
        "id": "_KuPMC646jLj"
      },
      "source": [
        "# Step 2: Filter the new DataFrame or table created in Step 1 and create a new DataFrame or table to \n",
        "# retrieve all the rows where the number of helpful_votes divided by total_votes is equal to or greater \n",
        "# than 50%.\n",
        "\n",
        "helpful_df = filter_df.filter(filter_df.helpful_votes/filter_df.total_votes >= 0.5)\n",
        "helpful_df.show()\n",
        "print(f\"Helpful DF count: {helpful_df.count()}\")"
      ],
      "execution_count": null,
      "outputs": []
    },
    {
      "cell_type": "code",
      "metadata": {
        "id": "y7HUCKvX7BDc"
      },
      "source": [
        "# Step 3: Filter the DataFrame or table created in Step 2, and create a new DataFrame or table \n",
        "# that retrieves all the rows where a review was written as part of the Vine program (paid), vine == 'Y'. (YES Paid)\n",
        "\n",
        "vine_y_df = helpful_df.filter(helpful_df.vine == 'Y')\n",
        "vine_y_df.show()\n"
      ],
      "execution_count": null,
      "outputs": []
    },
    {
      "cell_type": "code",
      "metadata": {
        "id": "sAe5Y0Wi7yrb"
      },
      "source": [
        "# Step 4: Repeat Step 3, but this time retrieve all the rows where the review was not part of \n",
        "# the Vine program (unpaid), vine == 'N' (Not Paid).\n",
        "\n",
        "vine_n_df = helpful_df.filter(helpful_df.vine == 'N')\n",
        "vine_n_df.show()\n",
        "print(f\"Vine N DF count: {vine_n_df.count()}\")"
      ],
      "execution_count": null,
      "outputs": []
    },
    {
      "cell_type": "code",
      "metadata": {
        "colab": {
          "base_uri": "https://localhost:8080/"
        },
        "id": "fl8DEBWv8mHl",
        "outputId": "9a75e0ed-8fc6-4cda-b411-7ca0b95bd521"
      },
      "source": [
        "# Step 5: Determine the total number of reviews, the number of 5-star reviews, and the \n",
        "# percentage of 5-star reviews for the two types of review (paid vs unpaid).\n",
        "\n",
        "vine_y_total = vine_y_df.count()\n",
        "vine_n_total = vine_n_df.count()\n",
        "\n",
        "vine_y_five_star = vine_y_df.filter(vine_y_df.star_rating == 5).count()\n",
        "vine_n_five_star = vine_n_df.filter(vine_n_df.star_rating == 5).count()\n",
        "\n",
        "vine_y_five_star_pct = (vine_y_five_star/vine_y_total) * 100\n",
        "vine_n_five_star_pct = (vine_n_five_star/vine_n_total) * 100\n",
        "\n",
        "print (f\"Five Stars in Vine Y: {vine_y_five_star}, Vine Y Total Reviews: {vine_y_total}, Portion that were five star reviews: {vine_y_five_star_pct:.1f}\")\n",
        "print (f\"Five Stars in Vine X: {vine_n_five_star}, Vine N Total Reviews: {vine_n_total}, Portion that were five star reviews: {vine_n_five_star_pct:.1f}\")\n"
      ],
      "execution_count": null,
      "outputs": [
        {
          "output_type": "stream",
          "name": "stdout",
          "text": [
            "Five Stars in Vine Y: 10, Vine Y Total Reviews: 21, Portion that were five star reviews: 47.6\n",
            "Five Stars in Vine X: 3448, Vine N Total Reviews: 6690, Portion that were five star reviews: 51.5\n"
          ]
        }
      ]
    }
  ]
}